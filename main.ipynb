{
 "cells": [
  {
   "cell_type": "markdown",
   "metadata": {},
   "source": [
    "<style>\n",
    "    .center-text{\n",
    "        text-align: center;\n",
    "    }\n",
    "</style>\n",
    "\n",
    "<div class='center-text'>\n",
    "\n",
    "# Tarea 1 Aprendizaje Automático\n",
    "\n",
    "### Julian Ricardo Salazar duarte\n",
    "\n",
    "#### Universidad Nacional de Colombia\n",
    "\n",
    "#### 2024-1\n",
    "</div>"
   ]
  },
  {
   "cell_type": "markdown",
   "metadata": {},
   "source": [
    "\n",
    "- [1. Preprocesamiento de datos](#s1)\n",
    "- [2. Análisis exploratorio de datos](#s2)\n"
   ]
  },
  {
   "cell_type": "code",
   "execution_count": 1,
   "metadata": {},
   "outputs": [],
   "source": [
    "import pandas as pd\n",
    "import numpy as np\n",
    "from sklearn.preprocessing import LabelEncoder"
   ]
  },
  {
   "cell_type": "markdown",
   "metadata": {},
   "source": [
    "<a id=\"s1\"></a>\n",
    "### 1. Preprocesamiento de datos"
   ]
  },
  {
   "cell_type": "code",
   "execution_count": 2,
   "metadata": {},
   "outputs": [],
   "source": [
    "def load_data(filename, skiprows=0, sheet_name=None):\n",
    "    if sheet_name is None:\n",
    "        data = pd.read_excel(filename, skiprows=skiprows)\n",
    "    else:\n",
    "        data = pd.read_excel(filename, skiprows=skiprows, sheet_name=sheet_name)\n",
    "    return data"
   ]
  },
  {
   "cell_type": "code",
   "execution_count": 3,
   "metadata": {},
   "outputs": [],
   "source": [
    "def clean_df(df):\n",
    "\n",
    "    df = df.dropna(how='all')\n",
    "\n",
    "    for i in range (len(df.columns)):\n",
    "        if 'Unnamed' in df.columns[i]:\n",
    "            df = df.rename(columns={df.columns[i]: df.columns[i-1].split()[0] + ' ' + df.iloc[0, i]})\n",
    "        elif not pd.isna(df.iloc[0, i]):\n",
    "            df = df.rename(columns={df.columns[i]: df.columns[i] + ' ' + df.iloc[0, i]})\n",
    "\n",
    "    df = df.drop(df.index[0])\n",
    "    df = df.dropna(how='any')\n",
    "    df.columns = df.columns.str.strip()\n",
    "    df.columns = df.columns.str.lower()\n",
    "    df.columns = df.columns.str.capitalize()\n",
    "    df['Fecha'] = df['Fecha'].apply(str)\n",
    "\n",
    "    df = df.rename(columns={df.columns[2]: 'Marca'})\n",
    "    \n",
    "    return df"
   ]
  },
  {
   "cell_type": "code",
   "execution_count": 4,
   "metadata": {},
   "outputs": [],
   "source": [
    "df = load_data('CC FT 17 Formato de Control de Calidad Café de Trillado.xlsx',\n",
    "               5, ['CONTROL CALIDAD CAFE TRILLADO J', 'Sheet2'])\n",
    "\n",
    "df1 = df['CONTROL CALIDAD CAFE TRILLADO J']\n",
    "df2 = df['Sheet2']\n",
    "\n",
    "df1 = clean_df(df1)\n",
    "df2 = clean_df(df2)"
   ]
  },
  {
   "cell_type": "code",
   "execution_count": 5,
   "metadata": {},
   "outputs": [
    {
     "name": "stdout",
     "output_type": "stream",
     "text": [
      "(106, 9)\n"
     ]
    }
   ],
   "source": [
    "df_trillado = pd.concat([df1, df2], axis=0)\n",
    "\n",
    "for col in df_trillado.columns:\n",
    "    if isinstance(df_trillado[col].iloc[0], str):\n",
    "        df_trillado[col] = df_trillado[col].str.lower().str.strip()\n",
    "    if len(set(df_trillado[col])) == 1:\n",
    "        df_trillado = df_trillado.drop(columns=[col])\n",
    "\n",
    "df_trillado['Lote'] = df_trillado['Lote'].str.replace('-', '', regex=False).str.lstrip('0')\n",
    "\n",
    "df_trillado = df_trillado.reset_index(drop=True)\n",
    "\n",
    "print(df_trillado.shape)"
   ]
  },
  {
   "cell_type": "markdown",
   "metadata": {},
   "source": [
    "##### Label (X)"
   ]
  },
  {
   "cell_type": "code",
   "execution_count": 6,
   "metadata": {},
   "outputs": [],
   "source": [
    "def replace_date(date):\n",
    "    date = date.split('-')\n",
    "    if date[1].isdigit():\n",
    "        if int (date[1]) < 4:\n",
    "            return 1\n",
    "        elif int (date[1]) < 7:\n",
    "            return 2\n",
    "        elif int (date[1]) < 10:\n",
    "            return 3\n",
    "        else:\n",
    "            return 4\n",
    "    else:\n",
    "        if 'ene' in date[1].lower() or 'feb' in date[1].lower() or 'mar' in date[1].lower():\n",
    "            return 1\n",
    "        elif 'abr' in date[1].lower() or 'may' in date[1].lower() or 'jun' in date[1].lower():\n",
    "            return 2\n",
    "        elif 'jul' in date[1].lower() or 'ago' in date[1].lower() or 'sep' in date[1].lower():\n",
    "            return 3\n",
    "        else:\n",
    "            return 4"
   ]
  },
  {
   "cell_type": "code",
   "execution_count": 7,
   "metadata": {},
   "outputs": [],
   "source": [
    "# Fecha toma los valores entre 1 y 4 dividiendo el año en trimestres\n",
    "\n",
    "df_trillado['Fecha'] = df_trillado['Fecha'].apply(replace_date)"
   ]
  },
  {
   "cell_type": "code",
   "execution_count": 8,
   "metadata": {},
   "outputs": [],
   "source": [
    "def replace_lote(lote):\n",
    "    if len(lote) == 7:\n",
    "        return int(lote[0])\n",
    "    else:\n",
    "        return int(lote[:2])"
   ]
  },
  {
   "cell_type": "code",
   "execution_count": 9,
   "metadata": {},
   "outputs": [],
   "source": [
    "# La columna Lote tiene valores enteros en entre 1 y 23 representando la marca o tipo de cafe\n",
    "\n",
    "df_trillado['Lote'] = df_trillado['Lote'].apply(replace_lote)"
   ]
  },
  {
   "cell_type": "code",
   "execution_count": 10,
   "metadata": {},
   "outputs": [
    {
     "name": "stdout",
     "output_type": "stream",
     "text": [
      "    Lote                       Marca\n",
      "0      1                 madre laura\n",
      "1      9                tabi natural\n",
      "2     10                   don mario\n",
      "3      7                   don felix\n",
      "7      8         gesha villabernarda\n",
      "8      2         madre laura natural\n",
      "9      5                  doña dolly\n",
      "12     3    madre laura descafeinado\n",
      "17    11      monteverde - wush wush\n",
      "18    12     el ocaso - pink bourbon\n",
      "28    13   el cedrela - pink bourbon\n",
      "38    16       gesha villa - natural\n",
      "39    15         don victor - marago\n",
      "42     6                  don rafael\n",
      "43     4                doña rosalba\n",
      "49    17      familia bedoya castaño\n",
      "54    18                   don johan\n",
      "57    19     gesha blue - monteverde\n",
      "58    20  bourbon sidra - las flores\n",
      "59    21    don victor - red bourbon\n",
      "70    22         el ocaso - caturron\n",
      "72    23             esteban robledo\n"
     ]
    }
   ],
   "source": [
    "tmp = df_trillado[['Lote', 'Marca']]\n",
    "tmp = tmp.drop_duplicates(subset='Lote')\n",
    "print(tmp)"
   ]
  },
  {
   "cell_type": "code",
   "execution_count": 11,
   "metadata": {},
   "outputs": [],
   "source": [
    "df = load_data('CC FT 17 Formato de Control de Calidad Café de Trillado.xlsx', sheet_name=['LOTES'])\n",
    "df = df['LOTES']\n",
    "df = df[['N°', 'TIPO DE CAFÉ']]\n",
    "df['TIPO DE CAFÉ'] = df['TIPO DE CAFÉ'].str.lower()\n",
    "df = df.dropna(how='any')\n",
    "df = df.set_index('N°')\n",
    "dict_lote = df.to_dict()['TIPO DE CAFÉ']\n",
    "dict_lote[23] = tmp[tmp['Lote'] == 23]['Marca'].values[0]"
   ]
  },
  {
   "cell_type": "code",
   "execution_count": 12,
   "metadata": {},
   "outputs": [
    {
     "name": "stdout",
     "output_type": "stream",
     "text": [
      "1: madre laura lavado\n",
      "2: madre laura natural\n",
      "3: madre laura descafeinado\n",
      "4: doña rosalba \n",
      "5: doña dolly\n",
      "6: don rafael pbw \n",
      "7: don felix\n",
      "8: gesha villabernarda\n",
      "9: don juan tabi\n",
      "10: doña liceth \n",
      "11: monteverde - wush wush\n",
      "12: el ocaso - pink bourbon\n",
      "13: el cedrela - pink bourbon \n",
      "14: don reinaldo \n",
      "15: don victor - maragogipe \n",
      "16: gesha natural villabernarda\n",
      "17: familia bedoya castaño\n",
      "18: don johan \n",
      "19: familia gutierrez - gesha \n",
      "20: familia vergara - bourbon sidra \n",
      "21: don victor - red bourbon\n",
      "22: el ocaso - caturron natural \n",
      "23: esteban robledo\n"
     ]
    }
   ],
   "source": [
    "for key, value in dict_lote.items():\n",
    "    print(f'{key}: {value}')"
   ]
  },
  {
   "cell_type": "code",
   "execution_count": 13,
   "metadata": {},
   "outputs": [],
   "source": [
    "# se elimina la columna marca ya que es redundante con la columna Lote\n",
    "\n",
    "df_trillado = df_trillado.drop(columns=['Marca'])"
   ]
  },
  {
   "cell_type": "code",
   "execution_count": 16,
   "metadata": {},
   "outputs": [],
   "source": [
    "# cantidad, %h y mallas # se deja igual (se normaliozara más adelante)\n",
    "\n",
    "# Notas de catacion se aplicará One-Hot Encoding\n",
    "\n",
    "tmp = df_trillado['Notas de catación']\n",
    "tmp = tmp.str.split(',', expand=True)"
   ]
  },
  {
   "cell_type": "code",
   "execution_count": 34,
   "metadata": {},
   "outputs": [],
   "source": [
    "def separe_y(row):\n",
    "    new_row = []\n",
    "    for r in row:\n",
    "        tmp = r.split(' y ')\n",
    "        new_row.extend(tmp)\n",
    "    return new_row\n"
   ]
  },
  {
   "cell_type": "code",
   "execution_count": 35,
   "metadata": {},
   "outputs": [],
   "source": [
    "notes = set()\n",
    "for i in range(tmp.shape[1]):\n",
    "    notes = notes.union(set(tmp[i].str.strip()))\n",
    "\n",
    "notes = list(notes)\n",
    "notes = [note for note in notes if note is not None]\n",
    "notes = separe_y(notes)\n",
    "notes.sort()"
   ]
  },
  {
   "cell_type": "code",
   "execution_count": 25,
   "metadata": {},
   "outputs": [
    {
     "name": "stdout",
     "output_type": "stream",
     "text": [
      "6\n"
     ]
    }
   ],
   "source": [
    "print(tmp.shape[1])"
   ]
  },
  {
   "cell_type": "code",
   "execution_count": null,
   "metadata": {},
   "outputs": [],
   "source": [
    "notes"
   ]
  },
  {
   "cell_type": "code",
   "execution_count": 29,
   "metadata": {},
   "outputs": [
    {
     "name": "stdout",
     "output_type": "stream",
     "text": [
      "{'residual a cascara de mandarina', 'acidez media citrica como naranja', 'acidez citrica como la naranja', 'cuerpo aterciopelado', 'limonciollo', 'nueces', 'final prolongado', 'melao de panela', 'cuerpo cremoso medio y final frutal prolongado.', 'residual frutal a naranja', 'acidez jugosa como tamarindo', None, 'acidez brillante y residual frutal a naranja', 'manzana roja', 'frutas maduras', 'uva', 'rosas', 'naranja', 'final prolongado a un toque frutal', 'te de cedron', 'jalea', 'almendras', 'fresas', 'cuerpo cremoso', 'caramleo', 'cuerpo sedoso y final limpio y prolongado', 'panela', 'final frutal', 'cacao', 'acidez jugosa citrica', 'clavos de olor', 'caña de azucar', 'azucar morena', 'frutas amarillas', 'cuerpo cremoso y final dulce como la melaza', 'cuerpo sedoso y final limpio', 'acidez malica brillante', 'limon', 'fresa', 'fnal dulce y prolongado', 'ciruela madura', 'acidez malica', 'chocolate negro', 'jazmin', 'maracuya', 'vainilla', 'miel', 'cuerpo cremoso y final frutal a durazno', 'chocolate al 70%', 'cuerpo medio', 'frutos rojos', 'cuerpo sedoso y final frutal', 'lavanda', 'moras maduras', 'menta', 'toque frutal', 'miel y final dulce', 'nuez moscada', 'final dulce prolongado', 'cuepo cremoso', 'acidez brillante citrica como mandarina', 'cuerpo cremoso y final dulce', 'final dulce', 'limonaria', 'flor de naranja', 'cuerpo sedoso', 'cedro', 'durazno', 'acidez brillante y final frutal', 'cuerpo aterciopelado y final floral dulce', 'sandia', 'balanaceado y final limpio.', 'acidez jugosa', 'nibs de cacao', 'acidez brillante', 'acidez citrica jugosa como la mandrina', 'final especiado como clavos de olor', 'arandanos', 'acidez jugosa citrica y final frutal.', 'miel de maple', 'cuerpo cremoso y final frutal', 'mora', 'frambuesa', 'chocolate dulce', 'caramelo', 'mandarina', 'acidez brillante citrica'}\n"
     ]
    }
   ],
   "source": [
    "print(notes)"
   ]
  },
  {
   "cell_type": "code",
   "execution_count": 14,
   "metadata": {},
   "outputs": [
    {
     "name": "stdout",
     "output_type": "stream",
     "text": [
      "Fecha: 4\n",
      "Lote: 22\n",
      "Cantidad: 66\n",
      "%h %: 13\n",
      "Mallas #: 3\n",
      "Notas de catación: 28\n",
      "Puntaje n°: 10\n",
      "Responsable: 2\n"
     ]
    }
   ],
   "source": [
    "for col in df_trillado.columns:\n",
    "    print(f'{col}: {len(set(df_trillado[col]))}')"
   ]
  },
  {
   "cell_type": "markdown",
   "metadata": {},
   "source": [
    "<a id=\"s2\"></a>\n",
    "### 2. Análisis exploratorio de datos"
   ]
  },
  {
   "cell_type": "code",
   "execution_count": null,
   "metadata": {},
   "outputs": [],
   "source": []
  }
 ],
 "metadata": {
  "kernelspec": {
   "display_name": "pyml",
   "language": "python",
   "name": "python3"
  },
  "language_info": {
   "codemirror_mode": {
    "name": "ipython",
    "version": 3
   },
   "file_extension": ".py",
   "mimetype": "text/x-python",
   "name": "python",
   "nbconvert_exporter": "python",
   "pygments_lexer": "ipython3",
   "version": "3.12.5"
  }
 },
 "nbformat": 4,
 "nbformat_minor": 2
}
