{
 "cells": [
  {
   "cell_type": "markdown",
   "metadata": {},
   "source": [
    "<style>\n",
    "    .center-text{\n",
    "        text-align: center;\n",
    "    }\n",
    "</style>\n",
    "\n",
    "<div class='center-text'>\n",
    "\n",
    "# Tarea 1 Aprendizaje Automático\n",
    "\n",
    "### Julian Ricardo Salazar duarte\n",
    "\n",
    "#### Universidad Nacional de Colombia\n",
    "\n",
    "#### 2024-1\n",
    "</div>"
   ]
  },
  {
   "cell_type": "markdown",
   "metadata": {},
   "source": [
    "\n",
    "- [1. Preprocesamiento de datos](#s1)\n",
    "- [2. Análisis exploratorio de datos](#s2)\n"
   ]
  },
  {
   "cell_type": "code",
   "execution_count": 124,
   "metadata": {},
   "outputs": [],
   "source": [
    "import pandas as pd\n",
    "import numpy as np\n",
    "from sklearn.preprocessing import LabelEncoder, MinMaxScaler"
   ]
  },
  {
   "cell_type": "markdown",
   "metadata": {},
   "source": [
    "<a id=\"s1\"></a>\n",
    "### 1. Preprocesamiento de datos"
   ]
  },
  {
   "cell_type": "code",
   "execution_count": 125,
   "metadata": {},
   "outputs": [],
   "source": [
    "def load_data(filename, skiprows=0, sheet_name=None):\n",
    "    if sheet_name is None:\n",
    "        data = pd.read_excel(filename, skiprows=skiprows)\n",
    "    else:\n",
    "        data = pd.read_excel(filename, skiprows=skiprows, sheet_name=sheet_name)\n",
    "    return data"
   ]
  },
  {
   "cell_type": "code",
   "execution_count": 126,
   "metadata": {},
   "outputs": [],
   "source": [
    "def clean_df(df):\n",
    "\n",
    "    df = df.dropna(how='all')\n",
    "\n",
    "    for i in range (len(df.columns)):\n",
    "        if 'Unnamed' in df.columns[i]:\n",
    "            df = df.rename(columns={df.columns[i]: df.columns[i-1].split()[0] + ' ' + df.iloc[0, i]})\n",
    "        elif not pd.isna(df.iloc[0, i]):\n",
    "            df = df.rename(columns={df.columns[i]: df.columns[i] + ' ' + df.iloc[0, i]})\n",
    "\n",
    "    df = df.drop(df.index[0])\n",
    "    df = df.dropna(how='any')\n",
    "    df.columns = df.columns.str.strip()\n",
    "    df.columns = df.columns.str.lower()\n",
    "    df.columns = df.columns.str.capitalize()\n",
    "    df['Fecha'] = df['Fecha'].apply(str)\n",
    "\n",
    "    df = df.rename(columns={df.columns[2]: 'Marca'})\n",
    "    \n",
    "    return df"
   ]
  },
  {
   "cell_type": "code",
   "execution_count": 127,
   "metadata": {},
   "outputs": [],
   "source": [
    "df = load_data('CC FT 17 Formato de Control de Calidad Café de Trillado.xlsx',\n",
    "               5, ['CONTROL CALIDAD CAFE TRILLADO J', 'Sheet2'])\n",
    "\n",
    "df1 = df['CONTROL CALIDAD CAFE TRILLADO J']\n",
    "df2 = df['Sheet2']\n",
    "\n",
    "df1 = clean_df(df1)\n",
    "df2 = clean_df(df2)"
   ]
  },
  {
   "cell_type": "code",
   "execution_count": 128,
   "metadata": {},
   "outputs": [
    {
     "name": "stdout",
     "output_type": "stream",
     "text": [
      "(106, 9)\n"
     ]
    }
   ],
   "source": [
    "df_trillado = pd.concat([df1, df2], axis=0)\n",
    "\n",
    "for col in df_trillado.columns:\n",
    "    if isinstance(df_trillado[col].iloc[0], str):\n",
    "        df_trillado[col] = df_trillado[col].str.lower().str.strip()\n",
    "    if len(set(df_trillado[col])) == 1:\n",
    "        df_trillado = df_trillado.drop(columns=[col])\n",
    "\n",
    "df_trillado['Lote'] = df_trillado['Lote'].str.replace('-', '', regex=False).str.lstrip('0')\n",
    "\n",
    "df_trillado = df_trillado.reset_index(drop=True)\n",
    "\n",
    "print(df_trillado.shape)"
   ]
  },
  {
   "cell_type": "markdown",
   "metadata": {},
   "source": [
    "##### Label (X) e input (Y)\n"
   ]
  },
  {
   "cell_type": "code",
   "execution_count": 129,
   "metadata": {},
   "outputs": [],
   "source": [
    "def replace_date(date):\n",
    "    date = date.split('-')\n",
    "    if date[1].isdigit():\n",
    "        if int (date[1]) < 4:\n",
    "            return 1\n",
    "        elif int (date[1]) < 7:\n",
    "            return 2\n",
    "        elif int (date[1]) < 10:\n",
    "            return 3\n",
    "        else:\n",
    "            return 4\n",
    "    else:\n",
    "        if 'ene' in date[1].lower() or 'feb' in date[1].lower() or 'mar' in date[1].lower():\n",
    "            return 1\n",
    "        elif 'abr' in date[1].lower() or 'may' in date[1].lower() or 'jun' in date[1].lower():\n",
    "            return 2\n",
    "        elif 'jul' in date[1].lower() or 'ago' in date[1].lower() or 'sep' in date[1].lower():\n",
    "            return 3\n",
    "        else:\n",
    "            return 4"
   ]
  },
  {
   "cell_type": "code",
   "execution_count": 130,
   "metadata": {},
   "outputs": [],
   "source": [
    "# Fecha toma los valores entre 1 y 4 dividiendo el año en trimestres\n",
    "\n",
    "df_trillado['Fecha'] = df_trillado['Fecha'].apply(replace_date)"
   ]
  },
  {
   "cell_type": "code",
   "execution_count": 131,
   "metadata": {},
   "outputs": [],
   "source": [
    "def replace_lote(lote):\n",
    "    if len(lote) == 7:\n",
    "        return int(lote[0])\n",
    "    else:\n",
    "        return int(lote[:2])"
   ]
  },
  {
   "cell_type": "code",
   "execution_count": 132,
   "metadata": {},
   "outputs": [],
   "source": [
    "# La columna Lote tiene valores enteros en entre 1 y 23 representando la marca o tipo de cafe\n",
    "\n",
    "df_trillado['Lote'] = df_trillado['Lote'].apply(replace_lote)"
   ]
  },
  {
   "cell_type": "code",
   "execution_count": 133,
   "metadata": {},
   "outputs": [
    {
     "name": "stdout",
     "output_type": "stream",
     "text": [
      "    Lote                       Marca\n",
      "0      1                 madre laura\n",
      "1      9                tabi natural\n",
      "2     10                   don mario\n",
      "3      7                   don felix\n",
      "7      8         gesha villabernarda\n",
      "8      2         madre laura natural\n",
      "9      5                  doña dolly\n",
      "12     3    madre laura descafeinado\n",
      "17    11      monteverde - wush wush\n",
      "18    12     el ocaso - pink bourbon\n",
      "28    13   el cedrela - pink bourbon\n",
      "38    16       gesha villa - natural\n",
      "39    15         don victor - marago\n",
      "42     6                  don rafael\n",
      "43     4                doña rosalba\n",
      "49    17      familia bedoya castaño\n",
      "54    18                   don johan\n",
      "57    19     gesha blue - monteverde\n",
      "58    20  bourbon sidra - las flores\n",
      "59    21    don victor - red bourbon\n",
      "70    22         el ocaso - caturron\n",
      "72    23             esteban robledo\n"
     ]
    }
   ],
   "source": [
    "tmp = df_trillado[['Lote', 'Marca']]\n",
    "tmp = tmp.drop_duplicates(subset='Lote')\n",
    "print(tmp)"
   ]
  },
  {
   "cell_type": "code",
   "execution_count": 134,
   "metadata": {},
   "outputs": [],
   "source": [
    "df = load_data('CC FT 17 Formato de Control de Calidad Café de Trillado.xlsx', sheet_name=['LOTES'])\n",
    "df = df['LOTES']\n",
    "df = df[['N°', 'TIPO DE CAFÉ']]\n",
    "df['TIPO DE CAFÉ'] = df['TIPO DE CAFÉ'].str.lower()\n",
    "df = df.dropna(how='any')\n",
    "df = df.set_index('N°')\n",
    "dict_lote = df.to_dict()['TIPO DE CAFÉ']\n",
    "dict_lote[23] = tmp[tmp['Lote'] == 23]['Marca'].values[0]"
   ]
  },
  {
   "cell_type": "code",
   "execution_count": 135,
   "metadata": {},
   "outputs": [
    {
     "name": "stdout",
     "output_type": "stream",
     "text": [
      "1: madre laura lavado\n",
      "2: madre laura natural\n",
      "3: madre laura descafeinado\n",
      "4: doña rosalba \n",
      "5: doña dolly\n",
      "6: don rafael pbw \n",
      "7: don felix\n",
      "8: gesha villabernarda\n",
      "9: don juan tabi\n",
      "10: doña liceth \n",
      "11: monteverde - wush wush\n",
      "12: el ocaso - pink bourbon\n",
      "13: el cedrela - pink bourbon \n",
      "14: don reinaldo \n",
      "15: don victor - maragogipe \n",
      "16: gesha natural villabernarda\n",
      "17: familia bedoya castaño\n",
      "18: don johan \n",
      "19: familia gutierrez - gesha \n",
      "20: familia vergara - bourbon sidra \n",
      "21: don victor - red bourbon\n",
      "22: el ocaso - caturron natural \n",
      "23: esteban robledo\n"
     ]
    }
   ],
   "source": [
    "for key, value in dict_lote.items():\n",
    "    print(f'{key}: {value}')"
   ]
  },
  {
   "cell_type": "code",
   "execution_count": 136,
   "metadata": {},
   "outputs": [],
   "source": [
    "# se elimina la columna marca ya que es redundante con la columna Lote\n",
    "\n",
    "df_trillado = df_trillado.drop(columns=['Marca'])"
   ]
  },
  {
   "cell_type": "code",
   "execution_count": 137,
   "metadata": {},
   "outputs": [],
   "source": [
    "# normalizar la columna Cantidad\n",
    "scaler = MinMaxScaler((0.5, 8))\n",
    "df_trillado['Cantidad'] = scaler.fit_transform(df_trillado[['Cantidad']])"
   ]
  },
  {
   "cell_type": "code",
   "execution_count": 138,
   "metadata": {},
   "outputs": [],
   "source": [
    "# cantidad, %h y mallas # se deja igual (se normaliozara más adelante)\n",
    "\n",
    "tmp = df_trillado['Notas de catación']\n",
    "tmp = tmp.str.split(',', expand=True)"
   ]
  },
  {
   "cell_type": "code",
   "execution_count": 139,
   "metadata": {},
   "outputs": [],
   "source": [
    "def separe_y(row):\n",
    "    new_row = []\n",
    "    for r in row:\n",
    "        tmp = r.split(' y ')\n",
    "        new_row.extend(tmp)\n",
    "    return new_row\n"
   ]
  },
  {
   "cell_type": "code",
   "execution_count": 140,
   "metadata": {},
   "outputs": [],
   "source": [
    "def delete_and_normalize(row):\n",
    "    \n",
    "    new_row = []\n",
    "    for r in row:\n",
    "        if (r == 'caramleo' or r == 'balanaceado' or 'fnal' in r or 'final' in r or \n",
    "            'residual' in r or 'cuepo' in r or 'prolongado' in r):\n",
    "            continue\n",
    "        elif 'acidez' in r or 'cuerpo' in r:\n",
    "            pos = r.find(' ', 7)\n",
    "            if pos == -1:\n",
    "                new_row.append(r.replace('.', ''))\n",
    "            else:\n",
    "                new_row.append(r[:pos])\n",
    "        elif 'mora' in r:\n",
    "            new_row.append('mora')\n",
    "        elif 'miel' in r:\n",
    "            new_row.append('miel')\n",
    "        elif 'fresa' in r:\n",
    "            new_row.append('fresa')\n",
    "        elif 'chocolate' in r:\n",
    "            new_row.append('chocolate')\n",
    "        elif 'cacao' in r:\n",
    "            new_row.append('cacao')\n",
    "        elif 'panela' in r:\n",
    "            new_row.append('panela')\n",
    "        else:\n",
    "            new_row.append(r.replace('.', ''))\n",
    "    return new_row"
   ]
  },
  {
   "cell_type": "code",
   "execution_count": 141,
   "metadata": {},
   "outputs": [],
   "source": [
    "# Notas de catacion se aplicará One-Hot Encoding\n",
    "\n",
    "notes = set()\n",
    "for i in range(tmp.shape[1]):\n",
    "    notes = notes.union(set(tmp[i].str.strip()))\n",
    "\n",
    "notes = list(notes)\n",
    "notes = [note for note in notes if note is not None]\n",
    "notes = separe_y(notes)\n",
    "notes = delete_and_normalize(notes)\n",
    "notes = list(set(notes))\n",
    "notes.sort()"
   ]
  },
  {
   "cell_type": "code",
   "execution_count": 142,
   "metadata": {},
   "outputs": [
    {
     "data": {
      "text/plain": [
       "['acidez brillante',\n",
       " 'acidez citrica',\n",
       " 'acidez jugosa',\n",
       " 'acidez malica',\n",
       " 'acidez media',\n",
       " 'almendras',\n",
       " 'arandanos',\n",
       " 'azucar morena',\n",
       " 'cacao',\n",
       " 'caramelo',\n",
       " 'caña de azucar',\n",
       " 'cedro',\n",
       " 'chocolate',\n",
       " 'ciruela madura',\n",
       " 'clavos de olor',\n",
       " 'cuerpo aterciopelado',\n",
       " 'cuerpo cremoso',\n",
       " 'cuerpo medio',\n",
       " 'cuerpo sedoso',\n",
       " 'durazno',\n",
       " 'flor de naranja',\n",
       " 'frambuesa',\n",
       " 'fresa',\n",
       " 'frutas amarillas',\n",
       " 'frutas maduras',\n",
       " 'frutos rojos',\n",
       " 'jalea',\n",
       " 'jazmin',\n",
       " 'lavanda',\n",
       " 'limon',\n",
       " 'limonaria',\n",
       " 'limonciollo',\n",
       " 'mandarina',\n",
       " 'manzana roja',\n",
       " 'maracuya',\n",
       " 'menta',\n",
       " 'miel',\n",
       " 'mora',\n",
       " 'naranja',\n",
       " 'nueces',\n",
       " 'nuez moscada',\n",
       " 'panela',\n",
       " 'rosas',\n",
       " 'sandia',\n",
       " 'te de cedron',\n",
       " 'toque frutal',\n",
       " 'uva',\n",
       " 'vainilla']"
      ]
     },
     "execution_count": 142,
     "metadata": {},
     "output_type": "execute_result"
    }
   ],
   "source": [
    "notes"
   ]
  },
  {
   "cell_type": "code",
   "execution_count": 143,
   "metadata": {},
   "outputs": [],
   "source": [
    "for col in notes:\n",
    "    df_trillado[col] = np.nan"
   ]
  },
  {
   "cell_type": "code",
   "execution_count": 144,
   "metadata": {},
   "outputs": [],
   "source": [
    "for i in notes:\n",
    "    for j in df_trillado.index:\n",
    "        if i in df_trillado.at[j, 'Notas de catación']:\n",
    "            df_trillado.at[j, i] = 1\n",
    "        else:\n",
    "            df_trillado.at[j, i] = 0"
   ]
  },
  {
   "cell_type": "code",
   "execution_count": 145,
   "metadata": {},
   "outputs": [],
   "source": [
    "# Se eliminan las columnas Notas de catación ya que se aplicó One-Hot Encoding\n",
    "\n",
    "df_trillado = df_trillado.drop(columns=['Notas de catación'])"
   ]
  },
  {
   "cell_type": "code",
   "execution_count": 146,
   "metadata": {},
   "outputs": [],
   "source": [
    "# responsable sa cambia lfq por 1 y ac por 0\n",
    "\n",
    "for i in df_trillado.index:\n",
    "    if df_trillado.at[i, 'Responsable'] == 'lfq':\n",
    "        df_trillado.at[i, 'Responsable'] = 1\n",
    "    else:\n",
    "        df_trillado.at[i, 'Responsable'] = 0"
   ]
  },
  {
   "cell_type": "code",
   "execution_count": 147,
   "metadata": {},
   "outputs": [
    {
     "data": {
      "text/html": [
       "<div>\n",
       "<style scoped>\n",
       "    .dataframe tbody tr th:only-of-type {\n",
       "        vertical-align: middle;\n",
       "    }\n",
       "\n",
       "    .dataframe tbody tr th {\n",
       "        vertical-align: top;\n",
       "    }\n",
       "\n",
       "    .dataframe thead th {\n",
       "        text-align: right;\n",
       "    }\n",
       "</style>\n",
       "<table border=\"1\" class=\"dataframe\">\n",
       "  <thead>\n",
       "    <tr style=\"text-align: right;\">\n",
       "      <th></th>\n",
       "      <th>Fecha</th>\n",
       "      <th>Lote</th>\n",
       "      <th>Cantidad</th>\n",
       "      <th>%h %</th>\n",
       "      <th>Mallas #</th>\n",
       "      <th>Puntaje n°</th>\n",
       "      <th>Responsable</th>\n",
       "      <th>acidez brillante</th>\n",
       "      <th>acidez citrica</th>\n",
       "      <th>acidez jugosa</th>\n",
       "      <th>...</th>\n",
       "      <th>naranja</th>\n",
       "      <th>nueces</th>\n",
       "      <th>nuez moscada</th>\n",
       "      <th>panela</th>\n",
       "      <th>rosas</th>\n",
       "      <th>sandia</th>\n",
       "      <th>te de cedron</th>\n",
       "      <th>toque frutal</th>\n",
       "      <th>uva</th>\n",
       "      <th>vainilla</th>\n",
       "    </tr>\n",
       "  </thead>\n",
       "  <tbody>\n",
       "    <tr>\n",
       "      <th>0</th>\n",
       "      <td>3</td>\n",
       "      <td>1</td>\n",
       "      <td>8.000000</td>\n",
       "      <td>10.9</td>\n",
       "      <td>14</td>\n",
       "      <td>84</td>\n",
       "      <td>1</td>\n",
       "      <td>0.0</td>\n",
       "      <td>0.0</td>\n",
       "      <td>1.0</td>\n",
       "      <td>...</td>\n",
       "      <td>0.0</td>\n",
       "      <td>0.0</td>\n",
       "      <td>0.0</td>\n",
       "      <td>0.0</td>\n",
       "      <td>0.0</td>\n",
       "      <td>0.0</td>\n",
       "      <td>0.0</td>\n",
       "      <td>1.0</td>\n",
       "      <td>0.0</td>\n",
       "      <td>0.0</td>\n",
       "    </tr>\n",
       "    <tr>\n",
       "      <th>1</th>\n",
       "      <td>3</td>\n",
       "      <td>9</td>\n",
       "      <td>2.496763</td>\n",
       "      <td>10.2</td>\n",
       "      <td>14</td>\n",
       "      <td>85</td>\n",
       "      <td>1</td>\n",
       "      <td>1.0</td>\n",
       "      <td>0.0</td>\n",
       "      <td>0.0</td>\n",
       "      <td>...</td>\n",
       "      <td>0.0</td>\n",
       "      <td>0.0</td>\n",
       "      <td>0.0</td>\n",
       "      <td>0.0</td>\n",
       "      <td>0.0</td>\n",
       "      <td>0.0</td>\n",
       "      <td>0.0</td>\n",
       "      <td>0.0</td>\n",
       "      <td>0.0</td>\n",
       "      <td>0.0</td>\n",
       "    </tr>\n",
       "    <tr>\n",
       "      <th>2</th>\n",
       "      <td>3</td>\n",
       "      <td>10</td>\n",
       "      <td>2.114185</td>\n",
       "      <td>10.7</td>\n",
       "      <td>14</td>\n",
       "      <td>84.5</td>\n",
       "      <td>1</td>\n",
       "      <td>1.0</td>\n",
       "      <td>0.0</td>\n",
       "      <td>0.0</td>\n",
       "      <td>...</td>\n",
       "      <td>0.0</td>\n",
       "      <td>0.0</td>\n",
       "      <td>0.0</td>\n",
       "      <td>1.0</td>\n",
       "      <td>0.0</td>\n",
       "      <td>0.0</td>\n",
       "      <td>0.0</td>\n",
       "      <td>0.0</td>\n",
       "      <td>0.0</td>\n",
       "      <td>0.0</td>\n",
       "    </tr>\n",
       "    <tr>\n",
       "      <th>3</th>\n",
       "      <td>3</td>\n",
       "      <td>7</td>\n",
       "      <td>0.500000</td>\n",
       "      <td>10.5</td>\n",
       "      <td>14</td>\n",
       "      <td>84.5</td>\n",
       "      <td>1</td>\n",
       "      <td>0.0</td>\n",
       "      <td>0.0</td>\n",
       "      <td>0.0</td>\n",
       "      <td>...</td>\n",
       "      <td>1.0</td>\n",
       "      <td>0.0</td>\n",
       "      <td>0.0</td>\n",
       "      <td>0.0</td>\n",
       "      <td>0.0</td>\n",
       "      <td>0.0</td>\n",
       "      <td>0.0</td>\n",
       "      <td>0.0</td>\n",
       "      <td>0.0</td>\n",
       "      <td>0.0</td>\n",
       "    </tr>\n",
       "    <tr>\n",
       "      <th>4</th>\n",
       "      <td>4</td>\n",
       "      <td>1</td>\n",
       "      <td>1.525603</td>\n",
       "      <td>10.7</td>\n",
       "      <td>14</td>\n",
       "      <td>84</td>\n",
       "      <td>1</td>\n",
       "      <td>0.0</td>\n",
       "      <td>0.0</td>\n",
       "      <td>1.0</td>\n",
       "      <td>...</td>\n",
       "      <td>0.0</td>\n",
       "      <td>0.0</td>\n",
       "      <td>0.0</td>\n",
       "      <td>0.0</td>\n",
       "      <td>0.0</td>\n",
       "      <td>0.0</td>\n",
       "      <td>0.0</td>\n",
       "      <td>1.0</td>\n",
       "      <td>0.0</td>\n",
       "      <td>0.0</td>\n",
       "    </tr>\n",
       "  </tbody>\n",
       "</table>\n",
       "<p>5 rows × 55 columns</p>\n",
       "</div>"
      ],
      "text/plain": [
       "   Fecha  Lote  Cantidad  %h % Mallas # Puntaje n° Responsable  \\\n",
       "0      3     1  8.000000  10.9       14         84           1   \n",
       "1      3     9  2.496763  10.2       14         85           1   \n",
       "2      3    10  2.114185  10.7       14       84.5           1   \n",
       "3      3     7  0.500000  10.5       14       84.5           1   \n",
       "4      4     1  1.525603  10.7       14         84           1   \n",
       "\n",
       "   acidez brillante  acidez citrica  acidez jugosa  ...  naranja  nueces  \\\n",
       "0               0.0             0.0            1.0  ...      0.0     0.0   \n",
       "1               1.0             0.0            0.0  ...      0.0     0.0   \n",
       "2               1.0             0.0            0.0  ...      0.0     0.0   \n",
       "3               0.0             0.0            0.0  ...      1.0     0.0   \n",
       "4               0.0             0.0            1.0  ...      0.0     0.0   \n",
       "\n",
       "   nuez moscada  panela  rosas  sandia  te de cedron  toque frutal  uva  \\\n",
       "0           0.0     0.0    0.0     0.0           0.0           1.0  0.0   \n",
       "1           0.0     0.0    0.0     0.0           0.0           0.0  0.0   \n",
       "2           0.0     1.0    0.0     0.0           0.0           0.0  0.0   \n",
       "3           0.0     0.0    0.0     0.0           0.0           0.0  0.0   \n",
       "4           0.0     0.0    0.0     0.0           0.0           1.0  0.0   \n",
       "\n",
       "   vainilla  \n",
       "0       0.0  \n",
       "1       0.0  \n",
       "2       0.0  \n",
       "3       0.0  \n",
       "4       0.0  \n",
       "\n",
       "[5 rows x 55 columns]"
      ]
     },
     "execution_count": 147,
     "metadata": {},
     "output_type": "execute_result"
    }
   ],
   "source": [
    "df_trillado.head()"
   ]
  },
  {
   "cell_type": "code",
   "execution_count": 148,
   "metadata": {},
   "outputs": [],
   "source": [
    "# dividir datos en features y target\n",
    "\n",
    "Y = df_trillado['Puntaje n°']\n",
    "\n",
    "X = df_trillado.drop(columns=['Puntaje n°'])"
   ]
  },
  {
   "cell_type": "markdown",
   "metadata": {},
   "source": [
    "Se buscara predecir el puntaje de los granos  de café (y) en base de las caracteristicas Fecha, Lote, cantidad, %h, Mallas y notas de catación (x). Para ello se realizó un preprocesamiento de los datos, con el fin de tener un dataset limpio y listo para ser utilizado en modelos de ml."
   ]
  },
  {
   "cell_type": "code",
   "execution_count": 149,
   "metadata": {},
   "outputs": [
    {
     "name": "stdout",
     "output_type": "stream",
     "text": [
      "Fecha: 4\n",
      "Lote: 22\n",
      "Cantidad: 66\n",
      "%h %: 13\n",
      "Mallas #: 3\n",
      "Puntaje n°: 10\n",
      "Responsable: 2\n",
      "acidez brillante: 2\n",
      "acidez citrica: 2\n",
      "acidez jugosa: 2\n",
      "acidez malica: 2\n",
      "acidez media: 2\n",
      "almendras: 2\n",
      "arandanos: 2\n",
      "azucar morena: 2\n",
      "cacao: 2\n",
      "caramelo: 2\n",
      "caña de azucar: 2\n",
      "cedro: 2\n",
      "chocolate: 2\n",
      "ciruela madura: 2\n",
      "clavos de olor: 2\n",
      "cuerpo aterciopelado: 2\n",
      "cuerpo cremoso: 2\n",
      "cuerpo medio: 2\n",
      "cuerpo sedoso: 2\n",
      "durazno: 2\n",
      "flor de naranja: 2\n",
      "frambuesa: 2\n",
      "fresa: 2\n",
      "frutas amarillas: 2\n",
      "frutas maduras: 2\n",
      "frutos rojos: 2\n",
      "jalea: 2\n",
      "jazmin: 2\n",
      "lavanda: 2\n",
      "limon: 2\n",
      "limonaria: 2\n",
      "limonciollo: 2\n",
      "mandarina: 2\n",
      "manzana roja: 2\n",
      "maracuya: 2\n",
      "menta: 2\n",
      "miel: 2\n",
      "mora: 2\n",
      "naranja: 2\n",
      "nueces: 2\n",
      "nuez moscada: 2\n",
      "panela: 2\n",
      "rosas: 2\n",
      "sandia: 2\n",
      "te de cedron: 2\n",
      "toque frutal: 2\n",
      "uva: 2\n",
      "vainilla: 2\n"
     ]
    }
   ],
   "source": [
    "for col in df_trillado.columns:\n",
    "    print(f'{col}: {len(set(df_trillado[col]))}')\n"
   ]
  },
  {
   "cell_type": "markdown",
   "metadata": {},
   "source": [
    "<a id=\"s2\"></a>\n",
    "### 2. Análisis exploratorio de datos"
   ]
  }
 ],
 "metadata": {
  "kernelspec": {
   "display_name": "pyml",
   "language": "python",
   "name": "python3"
  },
  "language_info": {
   "codemirror_mode": {
    "name": "ipython",
    "version": 3
   },
   "file_extension": ".py",
   "mimetype": "text/x-python",
   "name": "python",
   "nbconvert_exporter": "python",
   "pygments_lexer": "ipython3",
   "version": "3.12.5"
  }
 },
 "nbformat": 4,
 "nbformat_minor": 2
}
